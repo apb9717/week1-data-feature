{
  "nbformat": 4,
  "nbformat_minor": 0,
  "metadata": {
    "colab": {
      "provenance": [],
      "include_colab_link": true
    },
    "kernelspec": {
      "name": "python3",
      "display_name": "Python 3"
    },
    "language_info": {
      "name": "python"
    }
  },
  "cells": [
    {
      "cell_type": "markdown",
      "metadata": {
        "id": "view-in-github",
        "colab_type": "text"
      },
      "source": [
        "<a href=\"https://colab.research.google.com/github/apb9717/week1-data-feature/blob/main/IsMyGoatCracked.ipynb\" target=\"_parent\"><img src=\"https://colab.research.google.com/assets/colab-badge.svg\" alt=\"Open In Colab\"/></a>"
      ]
    },
    {
      "cell_type": "markdown",
      "source": [
        "# Data Features: Is My Goat Cracked?\n",
        "\n",
        "In this project, we created a data feature prototype to help users get information about the colleges their favorite NBA players attended.\n",
        "\n",
        "To achieve this, we utilized two APIs:\n",
        "- BallDontLie.io's basketball data API\n",
        "- Department of Education's College Scorecard API\n",
        "\n",
        "# Steps\n",
        "\n",
        "1. User sets up necessary prerequisites and API keys.\n",
        "2. User enters the name of a current or former NBA player.\n",
        "3. We call the BallDontLie API to retrieve basic information on the player.\n",
        "4. We call the Dept. of Education's College Scorecard API to retrieve relevant information on the player's college, if applicable.\n",
        "\n",
        "# Setting Up the API Keys\n",
        "\n",
        "We first need to set up each API key.\n",
        "\n",
        "- For BallDontLie, you can retrieve a free API key at https://app.balldontlie.io/. Add it to the **Secrets** section on Google Colab as *BALLDONTLIE_API*.  \n",
        "- For Dept. of Education, you can retrieve a free API key at https://collegescorecard.ed.gov/data/api-documentation/. Add it to the **Secrets** section on Google Colab as *COLLEGE_API*.\n",
        "\n",
        "The first code block imports the necessary libraries and checks if the user has correctly added their API keys.\n"
      ],
      "metadata": {
        "id": "r9ssruC6psdr"
      }
    },
    {
      "cell_type": "code",
      "source": [
        "# setup API key handling in Colab\n",
        "from google.colab import userdata\n",
        "# import package necessary for API calls\n",
        "import requests\n",
        "\n",
        "# set values of variables\n",
        "BALL_API_KEY = userdata.get('BALLDONTLIE_API')\n",
        "COLLEGE_API_KEY = userdata.get('COLLEGE_API')\n",
        "\n",
        "# checks for keys being correctly added\n",
        "if BALL_API_KEY and COLLEGE_API_KEY:\n",
        "  print(\"You're good to go!\")\n",
        "if not BALL_API_KEY:\n",
        "  print (\"You're missing the BallDontLie API key!\")\n",
        "if not COLLEGE_API_KEY:\n",
        "  print (\"You're missing the College Scorecard API key!\")"
      ],
      "metadata": {
        "colab": {
          "base_uri": "https://localhost:8080/"
        },
        "id": "WJDJnOLk9iqH",
        "outputId": "b6893a11-b99d-4762-dc31-4bfa6d6bdcfd"
      },
      "execution_count": 90,
      "outputs": [
        {
          "output_type": "stream",
          "name": "stdout",
          "text": [
            "You're good to go!\n"
          ]
        }
      ]
    },
    {
      "cell_type": "markdown",
      "source": [
        "# Set up functions for BallDontLie / Player Data\n",
        "\n",
        "The next code block establishes the get_player_data and get_player_team functions for later usage."
      ],
      "metadata": {
        "id": "1if7Zjfq-O_t"
      }
    },
    {
      "cell_type": "code",
      "execution_count": 91,
      "metadata": {
        "id": "WhKQuj74RCkz"
      },
      "outputs": [],
      "source": [
        "def get_player_data(api_key, full_name):\n",
        "\n",
        "  #Split name entered by user into first and last name\n",
        "  name_parts = full_name.split()\n",
        "\n",
        "  #Ensure that the user did not only enter first name\n",
        "  if len(name_parts) < 2:\n",
        "    print(\"Please enter both first and last names.\")\n",
        "    return None\n",
        "\n",
        "  #Separate first and last name to use API features\n",
        "  first_name_input = name_parts[0].lower()\n",
        "\n",
        "  #Account for players who have two last names\n",
        "  last_name_input = ' '.join(name_parts[1:]).lower()\n",
        "\n",
        "  #URL is given by API to search for a player with a specific first or last name\n",
        "  URL = f'https://api.balldontlie.io/v1/players?search={first_name_input}'\n",
        "  headers = {\n",
        "      'Authorization': api_key\n",
        "  }\n",
        "\n",
        "  #Get response from API\n",
        "  response = requests.get(URL, headers=headers)\n",
        "\n",
        "  if response.status_code == 200:\n",
        "    data = response.json()\n",
        "    players = data.get('data', [])\n",
        "    player_data = None\n",
        "    for player in players:\n",
        "      #Makes the first and last name lowercase to avoid capitalization errors\n",
        "      first_name = player['first_name'].lower()\n",
        "      last_name = player['last_name'].lower()\n",
        "      if first_name == first_name_input and last_name == last_name_input:\n",
        "        player_data = player\n",
        "        break\n",
        "    return player_data\n",
        "\n",
        "  else:\n",
        "      print(f'Error: {response.status_code}')\n",
        "      return None\n",
        "\n",
        "def get_player_team(player_data):\n",
        "  team = player_data['team']\n",
        "  team_name = team['full_name']\n",
        "  return team_name\n"
      ]
    },
    {
      "cell_type": "markdown",
      "source": [
        "# Set up function for College Scorecard\n",
        "\n",
        "This code block establishes the get_college_data function for retrieval of college data from the Dept. of Education API."
      ],
      "metadata": {
        "id": "L8B8pk4r-mKl"
      }
    },
    {
      "cell_type": "code",
      "source": [
        "# function takes college name (provided by BallDontLie \"college\") and year (most often, draft year provided by BallDontLie)\n",
        "def get_college_data(college_name, year):\n",
        "\n",
        "  # establish data limitation of College Scorecard for pre-1997 data\n",
        "  if(year < 1997):\n",
        "    print(\"College data only from 1997 onwards.\")\n",
        "    return None\n",
        "\n",
        "  # establish data limitation of College Scorecard for post-2022 data\n",
        "  if(year > 2022):\n",
        "    print(\"College data only up to 2022.\")\n",
        "    return None\n",
        "\n",
        "  # makes actual call to return relevant college data: acceptance rate, school name, SAT score, enrollment, and\n",
        "  # whether the campus is classified as the \"main campus\"\n",
        "  URL = f'https://api.data.gov/ed/collegescorecard/v1/schools?api_key={COLLEGE_API_KEY}&school.name={college_name}&fields=school.name,{year}.admissions.admission_rate.overall,{year}.admissions.sat_scores.average.overall,{year}.student.size,school.main_campus'\n",
        "  response = requests.get(URL)\n",
        "  data = response.json()\n",
        "\n",
        "  # many BallDontLie college names are very ambiguous, so this flow handles attempting to find the most accurate\n",
        "  # and likely institution from the dataset in cases with multiple options returned.\n",
        "  if data['metadata']['total'] > 1:\n",
        "    for school in data['results']:\n",
        "      school_name = school['school.name']\n",
        "      school_main_campus = school['school.main_campus']\n",
        "      # checks for exact matches with \"University\" appended at end or \"University of\" added to beginning\n",
        "      if school_main_campus == 1:\n",
        "        if (f\"{college_name} University\") == school_name:\n",
        "          return school\n",
        "        elif (f\"University of {college_name}\") == school_name:\n",
        "          return school\n",
        "    for school in data['results']:\n",
        "      school_name = school['school.name']\n",
        "      school_main_campus = school['school.main_campus']\n",
        "      # checks for substring matches, in cases of ex. \"University of Maryland College Park\"\n",
        "      if school_main_campus == 1:\n",
        "        if (f\"{college_name} University\") in school_name:\n",
        "          return school\n",
        "        elif (f\"University of {college_name}\") in school_name:\n",
        "          return school\n",
        "      else:\n",
        "        # essentially gives up and just looks for substring matches. can lead to inaccurate results, would be fixed\n",
        "        # in cases of making this program more public or in a full release.\n",
        "        if college_name in school_name:\n",
        "          return school\n",
        "  elif data['metadata']['total'] == 1:\n",
        "    # returns the only entry in cases with 1 possibility\n",
        "    return data['results'][0]\n",
        "  else:\n",
        "    # prints \"not found\" if no entries appear.\n",
        "    print(\"College not found.\")\n",
        "    return None"
      ],
      "metadata": {
        "id": "n973KEjYjmx5"
      },
      "execution_count": 92,
      "outputs": []
    },
    {
      "cell_type": "markdown",
      "source": [
        "# Making things happen!\n",
        "\n",
        "This code block utilizes the different functions and puts them together to create a useful output."
      ],
      "metadata": {
        "id": "5uVEoeej-zW5"
      }
    },
    {
      "cell_type": "code",
      "source": [
        "#Prompt the user to enter first and last name of player of interest\n",
        "full_name = input(\"Enter the player's full name (first and last): \")\n",
        "\n",
        "#call function to retrieve player data from API\n",
        "player_data = get_player_data(BALL_API_KEY, full_name)\n",
        "\n",
        "#Should not parse data if player is not found\n",
        "if player_data!= None:\n",
        "  #Retrieve player specific stats\n",
        "  player_team = get_player_team(player_data)\n",
        "  player_position = player_data['position']\n",
        "  college = player_data['college']\n",
        "  draft_year = player_data['draft_year']\n",
        "  draft_round = player_data['draft_round']\n",
        "  #Capitalize first and last name to display to user\n",
        "  first_name = player_data['first_name'].capitalize()\n",
        "  last_name = player_data['last_name'].capitalize()\n",
        "\n",
        "# sets a new variable's value in order to make draft round print grammatically correctly.\n",
        "# note that the NBA draft only has two rounds.\n",
        "draft_round_print = \"\"\n",
        "if draft_round == 1:\n",
        "  draft_round_print = \"1st\"\n",
        "elif draft_round == 2:\n",
        "  draft_round_print = \"2nd\"\n",
        "\n",
        "if player_data:\n",
        "    #Print data to user\n",
        "    print(f\"{first_name} {last_name} is a {player_position} for the {player_team}.\")\n",
        "    # checks for undrafted players\n",
        "    if draft_round == None:\n",
        "      print(f\"He went undrafted and attended {college}.\")\n",
        "    else:\n",
        "      print(f\"He was drafted in the {draft_round_print} round of the {draft_year} NBA draft.\")\n",
        "      print(f\"At the time he was drafted, he attended {college}.\")\n",
        "else:\n",
        "    print(\"Player not found.\")\n",
        "\n",
        "# sets default value to 2022 in cases of no draft year being known\n",
        "college_year = 2022\n",
        "if draft_year != None:\n",
        "  college_year = draft_year\n",
        "\n",
        "# calls get_college_data function\n",
        "college_data = get_college_data(college, college_year)\n",
        "\n",
        "if college_data!= None:\n",
        "  school_name = college_data['school.name']\n",
        "  # checks for cases of missing data from the Scorecard API and sets values to \"N/A\"\n",
        "  # i'm sure there's a more efficient way of doing this i'm sorry my python is rusty\n",
        "  if college_data[f'{college_year}.student.size'] == None:\n",
        "    enrollment = \"N/A\"\n",
        "  else:\n",
        "    enrollment = college_data[f'{college_year}.student.size']\n",
        "  if college_data[f'{college_year}.admissions.admission_rate.overall'] == None:\n",
        "    acceptance_rate = \"N/A\"\n",
        "  else:\n",
        "    acceptance_rate = round(100*college_data[f'{college_year}.admissions.admission_rate.overall'],2)\n",
        "  if college_data[f'{college_year}.admissions.sat_scores.average.overall'] == None:\n",
        "    sat_score = \"N/A\"\n",
        "  else:\n",
        "    sat_score = college_data[f'{college_year}.admissions.sat_scores.average.overall']\n",
        "  # prints college data\n",
        "  print(f\"In {college_year}, {school_name} had a {acceptance_rate}% acceptance rate, an average SAT score of {sat_score}, and an enrollment of {enrollment} students.\")\n"
      ],
      "metadata": {
        "colab": {
          "base_uri": "https://localhost:8080/"
        },
        "id": "y8sDFssRvH-a",
        "outputId": "799ed914-51dd-43f6-b278-a8e93c59983a"
      },
      "execution_count": 94,
      "outputs": [
        {
          "output_type": "stream",
          "name": "stdout",
          "text": [
            "Enter the player's full name (first and last): john wall\n",
            "John Wall is a G for the LA Clippers.\n",
            "He was drafted in the 1st round of the 2010 NBA draft.\n",
            "At the time he was drafted, he attended Kentucky.\n",
            "In 2010, University of Kentucky had a 73.52% acceptance rate, an average SAT score of 1139, and an enrollment of 19526 students.\n"
          ]
        }
      ]
    }
  ]
}
